{
 "cells": [
  {
   "cell_type": "code",
   "execution_count": 2,
   "id": "3d75259c-70bb-4e10-b858-b7f34e49e850",
   "metadata": {},
   "outputs": [
    {
     "ename": "AttributeError",
     "evalue": "type object 'Axis' has no attribute '_set_ticklabels'",
     "output_type": "error",
     "traceback": [
      "\u001b[0;31m---------------------------------------------------------------------------\u001b[0m",
      "\u001b[0;31mAttributeError\u001b[0m                            Traceback (most recent call last)",
      "Cell \u001b[0;32mIn[2], line 5\u001b[0m\n\u001b[1;32m      3\u001b[0m \u001b[38;5;28;01mimport\u001b[39;00m \u001b[38;5;21;01mscipy\u001b[39;00m\u001b[38;5;21;01m.\u001b[39;00m\u001b[38;5;21;01mio\u001b[39;00m\n\u001b[1;32m      4\u001b[0m \u001b[38;5;28;01mimport\u001b[39;00m \u001b[38;5;21;01mpandas\u001b[39;00m \u001b[38;5;28;01mas\u001b[39;00m \u001b[38;5;21;01mpd\u001b[39;00m\n\u001b[0;32m----> 5\u001b[0m \u001b[38;5;28;01mimport\u001b[39;00m \u001b[38;5;21;01mdata_analysis_functions\u001b[39;00m \u001b[38;5;28;01mas\u001b[39;00m \u001b[38;5;21;01mdaf\u001b[39;00m\n\u001b[1;32m      6\u001b[0m \u001b[38;5;28;01mimport\u001b[39;00m \u001b[38;5;21;01mmatplotlib\u001b[39;00m\u001b[38;5;21;01m.\u001b[39;00m\u001b[38;5;21;01mpyplot\u001b[39;00m \u001b[38;5;28;01mas\u001b[39;00m \u001b[38;5;21;01mplt\u001b[39;00m\n",
      "File \u001b[0;32m~/Desktop/uav/data_analysis_functions.py:6\u001b[0m\n\u001b[1;32m      4\u001b[0m \u001b[38;5;28;01mimport\u001b[39;00m \u001b[38;5;21;01mnumpy\u001b[39;00m \u001b[38;5;28;01mas\u001b[39;00m \u001b[38;5;21;01mnp\u001b[39;00m\n\u001b[1;32m      5\u001b[0m \u001b[38;5;28;01mimport\u001b[39;00m \u001b[38;5;21;01mpandas\u001b[39;00m \u001b[38;5;28;01mas\u001b[39;00m \u001b[38;5;21;01mpd\u001b[39;00m\n\u001b[0;32m----> 6\u001b[0m \u001b[38;5;28;01mimport\u001b[39;00m \u001b[38;5;21;01mmatplotlib\u001b[39;00m\u001b[38;5;21;01m.\u001b[39;00m\u001b[38;5;21;01mpyplot\u001b[39;00m \u001b[38;5;28;01mas\u001b[39;00m \u001b[38;5;21;01mplt\u001b[39;00m\n\u001b[1;32m      7\u001b[0m \u001b[38;5;28;01mfrom\u001b[39;00m \u001b[38;5;21;01mnumba\u001b[39;00m \u001b[38;5;28;01mimport\u001b[39;00m jit, cuda\n\u001b[1;32m      9\u001b[0m \u001b[38;5;28;01mdef\u001b[39;00m \u001b[38;5;21mfiles_into_df\u001b[39m(quantity\u001b[38;5;241m=\u001b[39m\u001b[38;5;241m100\u001b[39m, \u001b[38;5;28mtype\u001b[39m\u001b[38;5;241m=\u001b[39m\u001b[38;5;241m2\u001b[39m):\n",
      "File \u001b[0;32m~/.local/lib/python3.11/site-packages/matplotlib/pyplot.py:66\u001b[0m\n\u001b[1;32m     63\u001b[0m \u001b[38;5;28;01mfrom\u001b[39;00m \u001b[38;5;21;01mmatplotlib\u001b[39;00m \u001b[38;5;28;01mimport\u001b[39;00m _docstring\n\u001b[1;32m     64\u001b[0m \u001b[38;5;28;01mfrom\u001b[39;00m \u001b[38;5;21;01mmatplotlib\u001b[39;00m\u001b[38;5;21;01m.\u001b[39;00m\u001b[38;5;21;01mbackend_bases\u001b[39;00m \u001b[38;5;28;01mimport\u001b[39;00m (\n\u001b[1;32m     65\u001b[0m     FigureCanvasBase, FigureManagerBase, MouseButton)\n\u001b[0;32m---> 66\u001b[0m \u001b[38;5;28;01mfrom\u001b[39;00m \u001b[38;5;21;01mmatplotlib\u001b[39;00m\u001b[38;5;21;01m.\u001b[39;00m\u001b[38;5;21;01mfigure\u001b[39;00m \u001b[38;5;28;01mimport\u001b[39;00m Figure, FigureBase, figaspect\n\u001b[1;32m     67\u001b[0m \u001b[38;5;28;01mfrom\u001b[39;00m \u001b[38;5;21;01mmatplotlib\u001b[39;00m\u001b[38;5;21;01m.\u001b[39;00m\u001b[38;5;21;01mgridspec\u001b[39;00m \u001b[38;5;28;01mimport\u001b[39;00m GridSpec, SubplotSpec\n\u001b[1;32m     68\u001b[0m \u001b[38;5;28;01mfrom\u001b[39;00m \u001b[38;5;21;01mmatplotlib\u001b[39;00m \u001b[38;5;28;01mimport\u001b[39;00m rcsetup, rcParamsDefault, rcParamsOrig\n",
      "File \u001b[0;32m~/.local/lib/python3.11/site-packages/matplotlib/figure.py:43\u001b[0m\n\u001b[1;32m     40\u001b[0m \u001b[38;5;28;01mimport\u001b[39;00m \u001b[38;5;21;01mnumpy\u001b[39;00m \u001b[38;5;28;01mas\u001b[39;00m \u001b[38;5;21;01mnp\u001b[39;00m\n\u001b[1;32m     42\u001b[0m \u001b[38;5;28;01mimport\u001b[39;00m \u001b[38;5;21;01mmatplotlib\u001b[39;00m \u001b[38;5;28;01mas\u001b[39;00m \u001b[38;5;21;01mmpl\u001b[39;00m\n\u001b[0;32m---> 43\u001b[0m \u001b[38;5;28;01mfrom\u001b[39;00m \u001b[38;5;21;01mmatplotlib\u001b[39;00m \u001b[38;5;28;01mimport\u001b[39;00m _blocking_input, backend_bases, _docstring, projections\n\u001b[1;32m     44\u001b[0m \u001b[38;5;28;01mfrom\u001b[39;00m \u001b[38;5;21;01mmatplotlib\u001b[39;00m\u001b[38;5;21;01m.\u001b[39;00m\u001b[38;5;21;01martist\u001b[39;00m \u001b[38;5;28;01mimport\u001b[39;00m (\n\u001b[1;32m     45\u001b[0m     Artist, allow_rasterization, _finalize_rasterization)\n\u001b[1;32m     46\u001b[0m \u001b[38;5;28;01mfrom\u001b[39;00m \u001b[38;5;21;01mmatplotlib\u001b[39;00m\u001b[38;5;21;01m.\u001b[39;00m\u001b[38;5;21;01mbackend_bases\u001b[39;00m \u001b[38;5;28;01mimport\u001b[39;00m (\n\u001b[1;32m     47\u001b[0m     DrawEvent, FigureCanvasBase, NonGuiException, MouseButton, _get_renderer)\n",
      "File \u001b[0;32m~/.local/lib/python3.11/site-packages/matplotlib/projections/__init__.py:60\u001b[0m\n\u001b[1;32m     57\u001b[0m \u001b[38;5;28;01mfrom\u001b[39;00m \u001b[38;5;21;01m.\u001b[39;00m\u001b[38;5;21;01mpolar\u001b[39;00m \u001b[38;5;28;01mimport\u001b[39;00m PolarAxes\n\u001b[1;32m     59\u001b[0m \u001b[38;5;28;01mtry\u001b[39;00m:\n\u001b[0;32m---> 60\u001b[0m     \u001b[38;5;28;01mfrom\u001b[39;00m \u001b[38;5;21;01mmpl_toolkits\u001b[39;00m\u001b[38;5;21;01m.\u001b[39;00m\u001b[38;5;21;01mmplot3d\u001b[39;00m \u001b[38;5;28;01mimport\u001b[39;00m Axes3D\n\u001b[1;32m     61\u001b[0m \u001b[38;5;28;01mexcept\u001b[39;00m \u001b[38;5;167;01mImportError\u001b[39;00m:\n\u001b[1;32m     62\u001b[0m     \u001b[38;5;28;01mimport\u001b[39;00m \u001b[38;5;21;01mwarnings\u001b[39;00m\n",
      "File \u001b[0;32m/usr/lib/python3/dist-packages/mpl_toolkits/mplot3d/__init__.py:1\u001b[0m\n\u001b[0;32m----> 1\u001b[0m \u001b[38;5;28;01mfrom\u001b[39;00m \u001b[38;5;21;01m.\u001b[39;00m\u001b[38;5;21;01maxes3d\u001b[39;00m \u001b[38;5;28;01mimport\u001b[39;00m Axes3D\n\u001b[1;32m      3\u001b[0m __all__ \u001b[38;5;241m=\u001b[39m [\u001b[38;5;124m'\u001b[39m\u001b[38;5;124mAxes3D\u001b[39m\u001b[38;5;124m'\u001b[39m]\n",
      "File \u001b[0;32m/usr/lib/python3/dist-packages/mpl_toolkits/mplot3d/axes3d.py:45\u001b[0m\n\u001b[1;32m     38\u001b[0m \u001b[38;5;28;01mfrom\u001b[39;00m \u001b[38;5;21;01m.\u001b[39;00m \u001b[38;5;28;01mimport\u001b[39;00m proj3d\n\u001b[1;32m     39\u001b[0m \u001b[38;5;28;01mfrom\u001b[39;00m \u001b[38;5;21;01m.\u001b[39;00m \u001b[38;5;28;01mimport\u001b[39;00m axis3d\n\u001b[1;32m     42\u001b[0m \u001b[38;5;129;43m@_docstring\u001b[39;49m\u001b[38;5;241;43m.\u001b[39;49m\u001b[43minterpd\u001b[49m\n\u001b[1;32m     43\u001b[0m \u001b[38;5;129;43m@_api\u001b[39;49m\u001b[38;5;241;43m.\u001b[39;49m\u001b[43mdefine_aliases\u001b[49m\u001b[43m(\u001b[49m\u001b[43m{\u001b[49m\n\u001b[1;32m     44\u001b[0m \u001b[43m    \u001b[49m\u001b[38;5;124;43m\"\u001b[39;49m\u001b[38;5;124;43mxlim\u001b[39;49m\u001b[38;5;124;43m\"\u001b[39;49m\u001b[43m:\u001b[49m\u001b[43m \u001b[49m\u001b[43m[\u001b[49m\u001b[38;5;124;43m\"\u001b[39;49m\u001b[38;5;124;43mxlim3d\u001b[39;49m\u001b[38;5;124;43m\"\u001b[39;49m\u001b[43m]\u001b[49m\u001b[43m,\u001b[49m\u001b[43m \u001b[49m\u001b[38;5;124;43m\"\u001b[39;49m\u001b[38;5;124;43mylim\u001b[39;49m\u001b[38;5;124;43m\"\u001b[39;49m\u001b[43m:\u001b[49m\u001b[43m \u001b[49m\u001b[43m[\u001b[49m\u001b[38;5;124;43m\"\u001b[39;49m\u001b[38;5;124;43mylim3d\u001b[39;49m\u001b[38;5;124;43m\"\u001b[39;49m\u001b[43m]\u001b[49m\u001b[43m,\u001b[49m\u001b[43m \u001b[49m\u001b[38;5;124;43m\"\u001b[39;49m\u001b[38;5;124;43mzlim\u001b[39;49m\u001b[38;5;124;43m\"\u001b[39;49m\u001b[43m:\u001b[49m\u001b[43m \u001b[49m\u001b[43m[\u001b[49m\u001b[38;5;124;43m\"\u001b[39;49m\u001b[38;5;124;43mzlim3d\u001b[39;49m\u001b[38;5;124;43m\"\u001b[39;49m\u001b[43m]\u001b[49m\u001b[43m}\u001b[49m\u001b[43m)\u001b[49m\n\u001b[0;32m---> 45\u001b[0m \u001b[38;5;28;43;01mclass\u001b[39;49;00m\u001b[43m \u001b[49m\u001b[38;5;21;43;01mAxes3D\u001b[39;49;00m\u001b[43m(\u001b[49m\u001b[43mAxes\u001b[49m\u001b[43m)\u001b[49m\u001b[43m:\u001b[49m\n\u001b[1;32m     46\u001b[0m \u001b[38;5;250;43m    \u001b[39;49m\u001b[38;5;124;43;03m\"\"\"\u001b[39;49;00m\n\u001b[1;32m     47\u001b[0m \u001b[38;5;124;43;03m    3D Axes object.\u001b[39;49;00m\n\u001b[1;32m     48\u001b[0m \n\u001b[0;32m   (...)\u001b[0m\n\u001b[1;32m     53\u001b[0m \u001b[38;5;124;43;03m        `~.pyplot.subplots`, `~.pyplot.subplot_mosaic` or `.Figure.add_axes`.\u001b[39;49;00m\n\u001b[1;32m     54\u001b[0m \u001b[38;5;124;43;03m    \"\"\"\u001b[39;49;00m\n\u001b[1;32m     55\u001b[0m \u001b[43m    \u001b[49m\u001b[43mname\u001b[49m\u001b[43m \u001b[49m\u001b[38;5;241;43m=\u001b[39;49m\u001b[43m \u001b[49m\u001b[38;5;124;43m'\u001b[39;49m\u001b[38;5;124;43m3d\u001b[39;49m\u001b[38;5;124;43m'\u001b[39;49m\n",
      "File \u001b[0;32m/usr/lib/python3/dist-packages/mpl_toolkits/mplot3d/axes3d.py:723\u001b[0m, in \u001b[0;36mAxes3D\u001b[0;34m()\u001b[0m\n\u001b[1;32m    721\u001b[0m get_zminorticklabels \u001b[38;5;241m=\u001b[39m _axis_method_wrapper(\u001b[38;5;124m\"\u001b[39m\u001b[38;5;124mzaxis\u001b[39m\u001b[38;5;124m\"\u001b[39m, \u001b[38;5;124m\"\u001b[39m\u001b[38;5;124mget_minorticklabels\u001b[39m\u001b[38;5;124m\"\u001b[39m)\n\u001b[1;32m    722\u001b[0m get_zticklabels \u001b[38;5;241m=\u001b[39m _axis_method_wrapper(\u001b[38;5;124m\"\u001b[39m\u001b[38;5;124mzaxis\u001b[39m\u001b[38;5;124m\"\u001b[39m, \u001b[38;5;124m\"\u001b[39m\u001b[38;5;124mget_ticklabels\u001b[39m\u001b[38;5;124m\"\u001b[39m)\n\u001b[0;32m--> 723\u001b[0m set_zticklabels \u001b[38;5;241m=\u001b[39m \u001b[43m_axis_method_wrapper\u001b[49m\u001b[43m(\u001b[49m\n\u001b[1;32m    724\u001b[0m \u001b[43m    \u001b[49m\u001b[38;5;124;43m\"\u001b[39;49m\u001b[38;5;124;43mzaxis\u001b[39;49m\u001b[38;5;124;43m\"\u001b[39;49m\u001b[43m,\u001b[49m\u001b[43m \u001b[49m\u001b[38;5;124;43m\"\u001b[39;49m\u001b[38;5;124;43m_set_ticklabels\u001b[39;49m\u001b[38;5;124;43m\"\u001b[39;49m\u001b[43m,\u001b[49m\n\u001b[1;32m    725\u001b[0m \u001b[43m    \u001b[49m\u001b[43mdoc_sub\u001b[49m\u001b[38;5;241;43m=\u001b[39;49m\u001b[43m{\u001b[49m\u001b[38;5;124;43m\"\u001b[39;49m\u001b[38;5;124;43mAxis.set_ticks\u001b[39;49m\u001b[38;5;124;43m\"\u001b[39;49m\u001b[43m:\u001b[49m\u001b[43m \u001b[49m\u001b[38;5;124;43m\"\u001b[39;49m\u001b[38;5;124;43mAxes3D.set_zticks\u001b[39;49m\u001b[38;5;124;43m\"\u001b[39;49m\u001b[43m}\u001b[49m\u001b[43m)\u001b[49m\n\u001b[1;32m    727\u001b[0m zaxis_date \u001b[38;5;241m=\u001b[39m _axis_method_wrapper(\u001b[38;5;124m\"\u001b[39m\u001b[38;5;124mzaxis\u001b[39m\u001b[38;5;124m\"\u001b[39m, \u001b[38;5;124m\"\u001b[39m\u001b[38;5;124maxis_date\u001b[39m\u001b[38;5;124m\"\u001b[39m)\n\u001b[1;32m    728\u001b[0m \u001b[38;5;28;01mif\u001b[39;00m zaxis_date\u001b[38;5;241m.\u001b[39m\u001b[38;5;18m__doc__\u001b[39m:\n",
      "File \u001b[0;32m~/.local/lib/python3.11/site-packages/matplotlib/axes/_base.py:56\u001b[0m, in \u001b[0;36m_axis_method_wrapper.__init__\u001b[0;34m(self, attr_name, method_name, doc_sub)\u001b[0m\n\u001b[1;32m     53\u001b[0m \u001b[38;5;28mself\u001b[39m\u001b[38;5;241m.\u001b[39mmethod_name \u001b[38;5;241m=\u001b[39m method_name\n\u001b[1;32m     54\u001b[0m \u001b[38;5;66;03m# Immediately put the docstring in ``self.__doc__`` so that docstring\u001b[39;00m\n\u001b[1;32m     55\u001b[0m \u001b[38;5;66;03m# manipulations within the class body work as expected.\u001b[39;00m\n\u001b[0;32m---> 56\u001b[0m doc \u001b[38;5;241m=\u001b[39m inspect\u001b[38;5;241m.\u001b[39mgetdoc(\u001b[38;5;28mgetattr\u001b[39m(maxis\u001b[38;5;241m.\u001b[39mAxis, method_name))\n\u001b[1;32m     57\u001b[0m \u001b[38;5;28mself\u001b[39m\u001b[38;5;241m.\u001b[39m_missing_subs \u001b[38;5;241m=\u001b[39m []\n\u001b[1;32m     58\u001b[0m \u001b[38;5;28;01mif\u001b[39;00m doc:\n",
      "\u001b[0;31mAttributeError\u001b[0m: type object 'Axis' has no attribute '_set_ticklabels'"
     ]
    }
   ],
   "source": [
    "import os\n",
    "import random\n",
    "import scipy.io\n",
    "import pandas as pd\n",
    "import data_analysis_functions as daf\n",
    "import matplotlib.pyplot as plt"
   ]
  },
  {
   "cell_type": "markdown",
   "id": "74ad94bf",
   "metadata": {},
   "source": [
    "#### Reading 100 random files from 1 folder"
   ]
  },
  {
   "cell_type": "code",
   "execution_count": null,
   "id": "24d23205",
   "metadata": {},
   "outputs": [],
   "source": [
    "df = daf.files_into_df(quantity=3000)\n",
    "# print(df.head())\n"
   ]
  },
  {
   "cell_type": "markdown",
   "id": "f8201cc1",
   "metadata": {},
   "source": [
    "#### Filtring imaginary and real parts into tuples of 1 column (1 file)"
   ]
  },
  {
   "cell_type": "code",
   "execution_count": null,
   "id": "244e9662",
   "metadata": {},
   "outputs": [],
   "source": [
    "column_0 = df[0].apply(lambda x: complex(x))\n",
    "real_parts = tuple(column_0.apply(lambda x: x.real))\n",
    "imaginary_parts = tuple(column_0.apply(lambda x: x.imag))\n"
   ]
  },
  {
   "cell_type": "markdown",
   "id": "7a1a13af",
   "metadata": {},
   "source": [
    "#### Making 3 Graphs\n",
    "1. Real parts(n)\n",
    "2. Imaginary parts(n)\n",
    "3. Real parts(Imaginary parts) "
   ]
  },
  {
   "cell_type": "code",
   "execution_count": null,
   "id": "7fc7dc9c",
   "metadata": {},
   "outputs": [],
   "source": [
    "import matplotlib.pyplot as plt\n",
    "import numpy as np\n",
    "\n",
    "# Create an array of natural numbers from 1 to n\n",
    "n_values = np.arange(1, len(real_parts) + 1)\n",
    "\n",
    "# Create the plots\n",
    "plt.figure(figsize=(15, 5))\n",
    "\n",
    "# Plot 1: First tuple dependency from n natural number\n",
    "plt.subplot(1, 3, 1)\n",
    "plt.plot(n_values, real_parts, linestyle='', marker='.')\n",
    "plt.title('Real numbers dependency from n')\n",
    "plt.xlabel('Natural numbers')\n",
    "plt.ylabel('Real')\n",
    "\n",
    "# Plot 2: Second tuple dependency from n natural number\n",
    "plt.subplot(1, 3, 2)\n",
    "plt.plot(n_values, imaginary_parts)\n",
    "plt.title('Imaginary values dependency from n')\n",
    "plt.xlabel('Natural numbers')\n",
    "plt.ylabel('Imaginary')\n",
    "\n",
    "# Plot 3: First tuple dependency from second tuple\n",
    "plt.subplot(1, 3, 3)\n",
    "# plt.gca().set_prop_cycle(plt.cycler(\"color\", ('r', 'orange', 'yellow', 'g', 'c', 'b', 'm', 'k')))\n",
    "plt.plot(imaginary_parts, real_parts, linestyle='', marker='.')\n",
    "plt.title('Real numbers dependency from Imaginary values')\n",
    "plt.xlabel('Imaginary')\n",
    "plt.ylabel('Real')\n",
    "\n",
    "\n",
    "# Display the plots\n",
    "plt.tight_layout()\n",
    "plt.show()"
   ]
  },
  {
   "cell_type": "code",
   "execution_count": null,
   "id": "d7f7e75e",
   "metadata": {},
   "outputs": [],
   "source": [
    "absolute_values = tuple(column_0.abs())\n",
    "absolute_values\n",
    "\n",
    "plt.figure(figsize=(100, 50))\n",
    "\n",
    "plt.plot(n_values, absolute_values, linestyle='', marker='.')\n",
    "plt.show()"
   ]
  },
  {
   "cell_type": "code",
   "execution_count": null,
   "id": "3557bb23",
   "metadata": {},
   "outputs": [],
   "source": [
    "# tg_phi = tuple()\n",
    "# for i in range(len(real_parts)):\n",
    "#     if real_parts[i] != 0:\n",
    "#         tg_phi += (imaginary_parts[i] / real_parts[i], )"
   ]
  },
  {
   "cell_type": "code",
   "execution_count": null,
   "id": "dfeecb6f",
   "metadata": {},
   "outputs": [],
   "source": [
    "\n",
    "mean_values = daf.mean_values_to_tuple(df, degree=1)\n",
    "squared_mean_values = daf.mean_values_to_tuple(df, degree=2)\n",
    "n_values = np.arange(1, len(mean_values) + 1)\n",
    "print(mean_values)\n",
    "plt.figure(figsize=(100, 50)) \n",
    "plt.subplot(2, 1, 1)\n",
    "plt.plot(mean_values, linestyle='', marker='.')\n",
    "\n",
    "plt.subplot(2, 1, 2)\n",
    "plt.plot(mean_values, linestyle='', marker='.', color='red')\n",
    "plt.savefig('mean_values.png')\n",
    "plt.show()"
   ]
  },
  {
   "cell_type": "code",
   "execution_count": null,
   "id": "f8e716d5",
   "metadata": {},
   "outputs": [],
   "source": []
  }
 ],
 "metadata": {
  "kernelspec": {
   "display_name": "Python 3 (ipykernel)",
   "language": "python",
   "name": "python3"
  },
  "language_info": {
   "codemirror_mode": {
    "name": "ipython",
    "version": 3
   },
   "file_extension": ".py",
   "mimetype": "text/x-python",
   "name": "python",
   "nbconvert_exporter": "python",
   "pygments_lexer": "ipython3",
   "version": "3.11.6"
  }
 },
 "nbformat": 4,
 "nbformat_minor": 5
}
